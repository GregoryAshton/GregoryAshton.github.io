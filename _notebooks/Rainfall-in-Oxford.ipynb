{
 "cells": [
  {
   "cell_type": "code",
   "execution_count": 97,
   "metadata": {
    "collapsed": true
   },
   "outputs": [],
   "source": [
    "import matplotlib.pyplot as plt\n",
    "import numpy as np\n",
    "import pandas as pd\n",
    "\n",
    "%matplotlib inline"
   ]
  },
  {
   "cell_type": "code",
   "execution_count": 99,
   "metadata": {
    "collapsed": false
   },
   "outputs": [
    {
     "name": "stdout",
     "output_type": "stream",
     "text": [
      "--2015-03-05 12:58:05--  http://www.metoffice.gov.uk/pub/data/weather/uk/climate/stationdata/oxforddata.txt\r\n",
      "Resolving www.metoffice.gov.uk (www.metoffice.gov.uk)... 23.61.255.226, 23.61.255.217\r\n",
      "Connecting to www.metoffice.gov.uk (www.metoffice.gov.uk)|23.61.255.226|:80... connected.\r\n",
      "HTTP request sent, awaiting response... 200 OK\r\n",
      "Length: 99692 (97K) [text/plain]\r\n",
      "Saving to: ‘oxforddata.txt’\r\n",
      "\r\n",
      "\r",
      " 0% [                                       ] 0           --.-K/s              \r",
      "100%[======================================>] 99,692      --.-K/s   in 0.01s   \r\n",
      "\r\n",
      "2015-03-05 12:58:05 (7.45 MB/s) - ‘oxforddata.txt’ saved [99692/99692]\r\n",
      "\r\n"
     ]
    }
   ],
   "source": [
    "!wget http://www.metoffice.gov.uk/pub/data/weather/uk/climate/stationdata/oxforddata.txt"
   ]
  },
  {
   "cell_type": "code",
   "execution_count": 100,
   "metadata": {
    "collapsed": false
   },
   "outputs": [
    {
     "name": "stdout",
     "output_type": "stream",
     "text": [
      "Oxford\r\n",
      "Location: 4509E 2072N, 63 metres amsl\r\n",
      "Estimated data is marked with a * after the value.\r\n",
      "Missing data (more than 2 days missing in month) is marked by  ---.\r\n",
      "Sunshine data taken from an automatic Kipp & Zonen sensor marked with a #, otherwise sunshine data taken from a Campbell Stokes recorder.\r\n",
      "   yyyy  mm   tmax    tmin      af    rain     sun\r\n",
      "              degC    degC    days      mm   hours\r\n",
      "   1853   1    8.4     2.7       4    62.8     ---\r\n",
      "   1853   2    3.2    -1.8      19    29.3     ---\r\n",
      "   1853   3    7.7    -0.6      20    25.9     ---\r\n"
     ]
    }
   ],
   "source": [
    "!head oxforddata.txt"
   ]
  },
  {
   "cell_type": "code",
   "execution_count": 112,
   "metadata": {
    "collapsed": false
   },
   "outputs": [
    {
     "data": {
      "text/html": [
       "<div style=\"max-height:1000px;max-width:1500px;overflow:auto;\">\n",
       "<table border=\"1\" class=\"dataframe\">\n",
       "  <thead>\n",
       "    <tr style=\"text-align: right;\">\n",
       "      <th></th>\n",
       "      <th>yyyy</th>\n",
       "      <th>mm</th>\n",
       "      <th>rain</th>\n",
       "    </tr>\n",
       "  </thead>\n",
       "  <tbody>\n",
       "    <tr>\n",
       "      <th>0</th>\n",
       "      <td> 1853</td>\n",
       "      <td> 1</td>\n",
       "      <td> 62.8</td>\n",
       "    </tr>\n",
       "    <tr>\n",
       "      <th>1</th>\n",
       "      <td> 1853</td>\n",
       "      <td> 2</td>\n",
       "      <td> 29.3</td>\n",
       "    </tr>\n",
       "    <tr>\n",
       "      <th>2</th>\n",
       "      <td> 1853</td>\n",
       "      <td> 3</td>\n",
       "      <td> 25.9</td>\n",
       "    </tr>\n",
       "    <tr>\n",
       "      <th>3</th>\n",
       "      <td> 1853</td>\n",
       "      <td> 4</td>\n",
       "      <td> 60.1</td>\n",
       "    </tr>\n",
       "    <tr>\n",
       "      <th>4</th>\n",
       "      <td> 1853</td>\n",
       "      <td> 5</td>\n",
       "      <td> 59.5</td>\n",
       "    </tr>\n",
       "  </tbody>\n",
       "</table>\n",
       "</div>"
      ],
      "text/plain": [
       "   yyyy  mm  rain\n",
       "0  1853   1  62.8\n",
       "1  1853   2  29.3\n",
       "2  1853   3  25.9\n",
       "3  1853   4  60.1\n",
       "4  1853   5  59.5"
      ]
     },
     "execution_count": 112,
     "metadata": {},
     "output_type": "execute_result"
    }
   ],
   "source": [
    "df = pd.read_csv(\"oxforddata.txt\", header=5, skiprows=[6],\n",
    "                 usecols=[0, 1, 5], skipinitialspace=True, \n",
    "                 comment='P', # Ignore the 'Provisional statement'\n",
    "                 engine='c', dtype=None, delim_whitespace=True)\n",
    "\n",
    "df = df.applymap(lambda x:float(str(x).rstrip('*'))) # Remove *'s\n",
    "\n",
    "df.head()"
   ]
  },
  {
   "cell_type": "code",
   "execution_count": 115,
   "metadata": {
    "collapsed": false
   },
   "outputs": [
    {
     "data": {
      "text/plain": [
       "<matplotlib.text.Text at 0x7f803776a6d0>"
      ]
     },
     "execution_count": 115,
     "metadata": {},
     "output_type": "execute_result"
    },
    {
     "data": {
      "image/png": "[encoded data removed]",
      "text/plain": [
       "<matplotlib.figure.Figure at 0x7f803786c790>"
      ]
     },
     "metadata": {},
     "output_type": "display_data"
    }
   ],
   "source": [
    "grouped = df.groupby('mm')['rain'].mean()\n",
    "ax = grouped.plot(kind='bar', x='mm', y='rain')\n",
    "ax.set_xlabel(\"Month\")\n",
    "ax.set_ylabel(\"Amount of rain in mm\")"
   ]
  },
  {
   "cell_type": "code",
   "execution_count": null,
   "metadata": {
    "collapsed": true
   },
   "outputs": [],
   "source": []
  }
 ],
 "metadata": {
  "kernelspec": {
   "display_name": "Python 2",
   "language": "python",
   "name": "python2"
  },
  "language_info": {
   "codemirror_mode": {
    "name": "ipython",
    "version": 2
   },
   "file_extension": ".py",
   "mimetype": "text/x-python",
   "name": "python",
   "nbconvert_exporter": "python",
   "pygments_lexer": "ipython2",
   "version": "2.7.6"
  }
 },
 "nbformat": 4,
 "nbformat_minor": 0
}
