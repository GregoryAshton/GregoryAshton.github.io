{
 "cells": [
  {
   "cell_type": "markdown",
   "metadata": {},
   "source": [
    "# Interactive pulsar beam geometry\n",
    "\n",
    "This is an interactive static page to learn how to use IPythons excellent\n",
    "interactive tools. Thanks to [JakeVDP](https://jakevdp.github.io/blog/2013/12/05/static-interactive-widgets/)\n",
    "for the demonstration on how to do this.\n",
    "\n",
    "## Pulsar beam geometry\n",
    "\n",
    "This plot the beam-geometry and slices thorugh the beam which correspond to an observer \n",
    "seeing a single \"pulse\". The basic idea is that the intensity has a function\n",
    "\n",
    "$$ I \\sim \\exp\\left[ -\\frac{y^2}{2(\\lambda\\rho_2^0)^2} - -\\frac{x^2}{2(\\rho_2^0 + \\rho_2'' y^2)^2}\\right] $$\n",
    "\n",
    "which is a 2D-Gaussian with some modification to allow for a non-Gaussian beam. The free parameters are the scale factor $\\lambda$ in the longitudinal variance, and the $\\rho_2''$."
   ]
  },
  {
   "cell_type": "code",
   "execution_count": 1,
   "metadata": {
    "collapsed": false
   },
   "outputs": [],
   "source": [
    "%matplotlib inline\n",
    "import numpy as np\n",
    "import matplotlib.pyplot as plt\n",
    "\n",
    "# Define functions of the intensity\n",
    "def I(x, y, rho1, rho2, rho2d, rho2dd):\n",
    "    return np.exp(-y**2/(2*rho1**2) - x**2/(2*(rho2 + rho2d*y + rho2dd*y**2)**2))\n",
    "\n",
    "\n",
    "def x_at_y0(f, rho2):\n",
    "    \"\"\" The x value as y=0 \"\"\"\n",
    "    return rho2 * np.sqrt(2*np.log(1/f))\n",
    "\n",
    "\n",
    "def y_at_x0(f, rho1):\n",
    "    \"\"\" The y value as y=0 \"\"\"\n",
    "    return rho1 * np.sqrt(2*np.log(1/f))\n",
    "\n",
    "def rescale(y):\n",
    "    return y/np.sqrt(np.sum(y**2))\n",
    "    \n",
    "\n",
    "def plot(factor, rho2dd):\n",
    "    rho2 = 0.016\n",
    "    rho2d = 0\n",
    "    theta = 0.056\n",
    "    chi = 1.554\n",
    "    iota = np.arccos(0.008)\n",
    "    \n",
    "    fig, (ax1, ax2) = plt.subplots(ncols=2, figsize=(8, 6))\n",
    "    \n",
    "    # Set up limits\n",
    "    rho1 = factor*rho2\n",
    "    smallest_contour_lines = 1e-5\n",
    "    levels = np.logspace(-1, -4, 5)\n",
    "    \n",
    "    xmax = 3*x_at_y0(smallest_contour_lines, rho2)\n",
    "    x = np.linspace(-xmax, xmax, 50)\n",
    "    ymax = 1.5*y_at_x0(smallest_contour_lines, rho1)\n",
    "    y = np.linspace(-ymax, ymax, 50)\n",
    "\n",
    "    X, Y = np.meshgrid(x, y)\n",
    "    Z = I(X, Y, rho1, rho2, rho2d, rho2dd)\n",
    "\n",
    "    ax1.pcolormesh(X, Y, np.log10(Z), cmap=plt.cm.Greys, zorder=-10)\n",
    "    CS = ax1.contour(X, Y, Z, colors=\"w\", levels=levels, linewidths=2, zorder=10)\n",
    "    \n",
    "    # Add the observer position\n",
    "    ax1.axhline(chi - iota, color=\"k\", lw=2)\n",
    "    ax1.fill_between(x, (chi-iota) - theta, (chi-iota) + theta, \n",
    "                     color=\"none\", hatch=\"//\\\\\\\\\", edgecolor=\"k\", alpha=0.5)\n",
    "    ax1.set_xlabel(\"$\\Phi$\")\n",
    "    ax1.set_ylabel(\"$\\Delta\\Theta$\", rotation=\"horizontal\")\n",
    "    ax1.set_title(\"$\\lambda={}$\".format(factor))\n",
    "    plt.tight_layout()\n",
    "    \n",
    "    \n",
    "    # Add the line-plot \n",
    "    x = np.linspace(-0.1, 0.1, 100)\n",
    "    pulse_at_ave = rescale(I(x, chi-iota, rho1, rho2, rho2d, rho2dd))\n",
    "    pulse_at_p = rescale(I(x, chi-iota+theta, rho1, rho2, rho2d, rho2dd))\n",
    "    pulse_at_m = rescale(I(x, chi-iota-theta, rho1, rho2, rho2d, rho2dd))\n",
    "\n",
    "    ax2.plot(x, pulse_at_ave, \"-\", color=\"k\", label=r\"$\\Delta\\Theta=\\chi-\\iota$\")\n",
    "    ax2.plot(x, pulse_at_p, \"-.\", color=\"k\", label=r\"$\\Delta\\Theta=\\chi-\\iota+\\theta$\")\n",
    "    ax2.plot(x, pulse_at_m, \"--\", color=\"k\", label=r\"$\\Delta\\Theta=\\chi-\\iota-\\theta$\")\n",
    "    ax2.set_xlim(-0.1, 0.1)\n",
    "    ax2.legend(loc=1, frameon=False, fontsize=7)\n",
    "    ax2.set_ylabel(\"Normalised intensity\")\n",
    "    ax2.set_xlabel(\"Pulse phase\")\n",
    "    plt.tight_layout()\n",
    "   \n",
    "    return fig"
   ]
  },
  {
   "cell_type": "code",
   "execution_count": null,
   "metadata": {
    "collapsed": false
   },
   "outputs": [],
   "source": [
    "from ipywidgets import StaticInteract, RangeWidget, RadioWidget\n",
    "\n",
    "StaticInteract(plot, \n",
    "               factor=RangeWidget(0.5, 2.0, 0.1, default=1.1), \n",
    "               rho2dd=RangeWidget(0, 8, 0.5, default=3)\n",
    "               )"
   ]
  },
  {
   "cell_type": "code",
   "execution_count": null,
   "metadata": {
    "collapsed": true
   },
   "outputs": [],
   "source": []
  }
 ],
 "metadata": {
  "kernelspec": {
   "display_name": "Python 2",
   "language": "python",
   "name": "python2"
  },
  "language_info": {
   "codemirror_mode": {
    "name": "ipython",
    "version": 2
   },
   "file_extension": ".py",
   "mimetype": "text/x-python",
   "name": "python",
   "nbconvert_exporter": "python",
   "pygments_lexer": "ipython2",
   "version": "2.7.6"
  }
 },
 "nbformat": 4,
 "nbformat_minor": 0
}
