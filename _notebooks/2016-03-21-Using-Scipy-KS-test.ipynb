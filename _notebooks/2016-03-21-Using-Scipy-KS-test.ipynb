{
 "cells": [
  {
   "cell_type": "code",
   "execution_count": 68,
   "metadata": {
    "collapsed": false
   },
   "outputs": [],
   "source": [
    "%matplotlib inline\n",
    "import matplotlib.pyplot as plt\n",
    "import numpy as np\n",
    "import scipy.stats as ss\n",
    "import seaborn"
   ]
  },
  {
   "cell_type": "markdown",
   "metadata": {},
   "source": [
    "# Using the `scipy` Kolmogorov–Smirnov test\n",
    "\n",
    "A short note on how to use the [`scipy` Kolmogorov–Smirnov test](http://docs.scipy.org/doc/scipy-0.14.0/reference/generated/scipy.stats.kstest.html) because quite frankly the documentation was not compelling and I always forget how the  `scipy.stats` module handles distributions arguments.\n",
    "\n",
    "## Set up some test data\n",
    "\n",
    "Using a `beta` distribution generate `rvs` from it and save them as `d1`, then make a second set of data containing the fist set and 50 drawd from a different distribution: this measn `d2` not `beta`. We plot the Gaussian KDE to show how large the effect is graphically"
   ]
  },
  {
   "cell_type": "code",
   "execution_count": 65,
   "metadata": {
    "collapsed": false
   },
   "outputs": [
    {
     "data": {
      "image/png": "[encoded data removed]",
      "text/plain": [
       "<matplotlib.figure.Figure at 0x7fbb2881f410>"
      ]
     },
     "metadata": {},
     "output_type": "display_data"
    }
   ],
   "source": [
    "xvals = np.linspace(0, 0.5, 500)\n",
    "\n",
    "args = [0.5, 20]\n",
    "d1 = ss.beta.rvs(args[0], args[1], size=1000)\n",
    "noise = ss.norm.rvs(0.4, 0.1, size=50)\n",
    "d2 = np.append(d1[:len(d1)-len(noise)], noise)\n",
    "\n",
    "fig, (ax1, ax2) = plt.subplots(nrows = 2)\n",
    "\n",
    "ax1.plot(xvals, ss.gaussian_kde(d1).evaluate(xvals), \"-k\",\n",
    "         label=\"d1\")\n",
    "ax1.legend()\n",
    "ax2.plot(xvals, ss.gaussian_kde(d2).evaluate(xvals), \"-k\",\n",
    "         label=\"d2\")\n",
    "ax2.legend()\n",
    "\n",
    "plt.show()"
   ]
  },
  {
   "cell_type": "markdown",
   "metadata": {},
   "source": [
    "## Now compute KS test\n",
    "\n",
    "The trick here is to give the `scipy.stats.kstest` the data, then a callable function of the cumulative distribution function. There is some clever way to just pass in a string of the name, but I was unconvinved that the argumements were going to the proper place, so I prefer this method"
   ]
  },
  {
   "cell_type": "code",
   "execution_count": 66,
   "metadata": {
    "collapsed": false
   },
   "outputs": [
    {
     "data": {
      "text/plain": [
       "KstestResult(statistic=0.033579161840887828, pvalue=0.20506498391032268)"
      ]
     },
     "execution_count": 66,
     "metadata": {},
     "output_type": "execute_result"
    }
   ],
   "source": [
    "beta_cdf = lambda x: ss.beta.cdf(x, args[0], args[1])\n",
    "ss.kstest(d1, beta_cdf)"
   ]
  },
  {
   "cell_type": "code",
   "execution_count": 67,
   "metadata": {
    "collapsed": false
   },
   "outputs": [
    {
     "data": {
      "text/plain": [
       "KstestResult(statistic=0.049395614285257183, pvalue=0.014680697643542961)"
      ]
     },
     "execution_count": 67,
     "metadata": {},
     "output_type": "execute_result"
    }
   ],
   "source": [
    "ss.kstest(d2, beta_cdf)"
   ]
  },
  {
   "cell_type": "markdown",
   "metadata": {},
   "source": [
    "## Conclusion\n",
    "\n",
    "Clearly this works as expected: for `d1` we get a fairly large $p$-value suggesting we should accept the null hypothesis (the data *is* beta-distributed with the given $a$ and $b$, while for $d2$ we get a low $p$-value suggesting we might discard the null hypothesis (which we know to be true since that was the way the data was built). \n",
    "\n",
    "It remains unclear how to choose the $p$ threshold."
   ]
  }
 ],
 "metadata": {
  "kernelspec": {
   "display_name": "Python 2",
   "language": "python",
   "name": "python2"
  },
  "language_info": {
   "codemirror_mode": {
    "name": "ipython",
    "version": 2
   },
   "file_extension": ".py",
   "mimetype": "text/x-python",
   "name": "python",
   "nbconvert_exporter": "python",
   "pygments_lexer": "ipython2",
   "version": "2.7.11"
  }
 },
 "nbformat": 4,
 "nbformat_minor": 0
}
