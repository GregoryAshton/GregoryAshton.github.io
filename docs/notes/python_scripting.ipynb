{
 "cells": [
  {
   "cell_type": "markdown",
   "id": "95b81ed4-ce70-4b81-81fd-b06216923ae6",
   "metadata": {},
   "source": [
    "# Using python for scripting"
   ]
  },
  {
   "cell_type": "markdown",
   "id": "a06dcde9-b175-47bf-a69b-d21cc4f95caf",
   "metadata": {},
   "source": [
    "In this notebook, I'll cover some tricks in using python to script jobs in the terminal."
   ]
  },
  {
   "cell_type": "markdown",
   "id": "bc128cd8-8a31-4734-b49a-29b9ca2f4c8a",
   "metadata": {},
   "source": [
    "## The os module"
   ]
  },
  {
   "cell_type": "markdown",
   "id": "de84edd6-d449-4f81-bff9-205103b35a31",
   "metadata": {},
   "source": [
    "The built-in module `os` contains lots of useful functionality. For example, here is a way to check if a file exists:"
   ]
  },
  {
   "cell_type": "code",
   "execution_count": 24,
   "id": "44974365-0727-47cc-8a7e-3c32ead9aacb",
   "metadata": {},
   "outputs": [
    {
     "data": {
      "text/plain": [
       "True"
      ]
     },
     "execution_count": 24,
     "metadata": {},
     "output_type": "execute_result"
    }
   ],
   "source": [
    "os.path.exists(\"python_scripting.ipynb\")"
   ]
  },
  {
   "cell_type": "markdown",
   "id": "c4c6e7cd-bc95-4caf-ab78-bc2961ecb850",
   "metadata": {},
   "source": [
    "Here is a method that checks if the directory exists and, if it doesn't, creates it (otherwise `mkdir` will throw and error):"
   ]
  },
  {
   "cell_type": "code",
   "execution_count": 23,
   "id": "70896eb2-e4a5-41f1-8696-5052b99023e2",
   "metadata": {},
   "outputs": [],
   "source": [
    "import os\n",
    "\n",
    "directory = \"example_directory\"\n",
    "if os.path.exists(directory) is False:\n",
    "    os.mkdir(\"example_directory\")"
   ]
  },
  {
   "cell_type": "markdown",
   "id": "ad6415ba-9a5a-43d6-96d6-60e9394d5c86",
   "metadata": {},
   "source": [
    "## Reading/writing files"
   ]
  },
  {
   "cell_type": "markdown",
   "id": "b0ced3f8-2c4a-44b1-851c-334a9268138a",
   "metadata": {},
   "source": [
    "Python includes built-in methods to read and write files (see, e.g. [this tutorial](https://www.geeksforgeeks.org/reading-writing-text-files-python/). However, in general for scientific work, it is best to try and use dedicated to software to read and write file where the software knows about the file formats.\n",
    "\n",
    "For example, a common way to store data is `csv` (command separated file). Here, `pandas` is one of the best modules available and easily handles the task. First, let's create a data frame"
   ]
  },
  {
   "cell_type": "code",
   "execution_count": 2,
   "id": "a86cdb29-a16b-47ad-8508-077ba1ecea2f",
   "metadata": {},
   "outputs": [
    {
     "data": {
      "text/html": [
       "<div>\n",
       "<style scoped>\n",
       "    .dataframe tbody tr th:only-of-type {\n",
       "        vertical-align: middle;\n",
       "    }\n",
       "\n",
       "    .dataframe tbody tr th {\n",
       "        vertical-align: top;\n",
       "    }\n",
       "\n",
       "    .dataframe thead th {\n",
       "        text-align: right;\n",
       "    }\n",
       "</style>\n",
       "<table border=\"1\" class=\"dataframe\">\n",
       "  <thead>\n",
       "    <tr style=\"text-align: right;\">\n",
       "      <th></th>\n",
       "      <th>A</th>\n",
       "      <th>B</th>\n",
       "    </tr>\n",
       "  </thead>\n",
       "  <tbody>\n",
       "    <tr>\n",
       "      <th>0</th>\n",
       "      <td>1</td>\n",
       "      <td>4</td>\n",
       "    </tr>\n",
       "    <tr>\n",
       "      <th>1</th>\n",
       "      <td>2</td>\n",
       "      <td>5</td>\n",
       "    </tr>\n",
       "    <tr>\n",
       "      <th>2</th>\n",
       "      <td>3</td>\n",
       "      <td>6</td>\n",
       "    </tr>\n",
       "  </tbody>\n",
       "</table>\n",
       "</div>"
      ],
      "text/plain": [
       "   A  B\n",
       "0  1  4\n",
       "1  2  5\n",
       "2  3  6"
      ]
     },
     "execution_count": 2,
     "metadata": {},
     "output_type": "execute_result"
    }
   ],
   "source": [
    "import pandas as pd\n",
    "df = pd.DataFrame(dict(A=[1, 2, 3], B=[4, 5, 6]))\n",
    "df"
   ]
  },
  {
   "cell_type": "markdown",
   "id": "a4d29728-3228-471e-be5e-bc987223c7f9",
   "metadata": {},
   "source": [
    "Then we will write it to a file `test.csv` which we put in our `example_directory` created above"
   ]
  },
  {
   "cell_type": "code",
   "execution_count": 5,
   "id": "dfa8fbe1-f0d1-4c8b-8abf-22db015195bc",
   "metadata": {},
   "outputs": [],
   "source": [
    "filename = \"example_directory/test.csv\"\n",
    "df.to_csv(filename)"
   ]
  },
  {
   "cell_type": "markdown",
   "id": "3fb4ae1e-32cc-4306-823d-bb7a9a038984",
   "metadata": {},
   "source": [
    "We can look at what the file looks like using the `cat` module (note the \"!\" is using the command line from within this notebook)"
   ]
  },
  {
   "cell_type": "code",
   "execution_count": 9,
   "id": "2d32caec-5f1b-4dc5-92d6-a015c366b365",
   "metadata": {},
   "outputs": [
    {
     "name": "stdout",
     "output_type": "stream",
     "text": [
      ",A,B\n",
      "0,1,4\n",
      "1,2,5\n",
      "2,3,6\n"
     ]
    }
   ],
   "source": [
    "!cat example_directory/test.csv"
   ]
  },
  {
   "cell_type": "markdown",
   "id": "13a7ff45-4964-4916-882a-f583a2aaab06",
   "metadata": {},
   "source": [
    "Then we can read it back in like this (note the `index_col` is needed so that `pandas` doesn't think the first column contains data)"
   ]
  },
  {
   "cell_type": "code",
   "execution_count": 10,
   "id": "6a815e1e-1c7a-4929-aea3-1bd4a527e2d7",
   "metadata": {},
   "outputs": [
    {
     "data": {
      "text/html": [
       "<div>\n",
       "<style scoped>\n",
       "    .dataframe tbody tr th:only-of-type {\n",
       "        vertical-align: middle;\n",
       "    }\n",
       "\n",
       "    .dataframe tbody tr th {\n",
       "        vertical-align: top;\n",
       "    }\n",
       "\n",
       "    .dataframe thead th {\n",
       "        text-align: right;\n",
       "    }\n",
       "</style>\n",
       "<table border=\"1\" class=\"dataframe\">\n",
       "  <thead>\n",
       "    <tr style=\"text-align: right;\">\n",
       "      <th></th>\n",
       "      <th>A</th>\n",
       "      <th>B</th>\n",
       "    </tr>\n",
       "  </thead>\n",
       "  <tbody>\n",
       "    <tr>\n",
       "      <th>0</th>\n",
       "      <td>1</td>\n",
       "      <td>4</td>\n",
       "    </tr>\n",
       "    <tr>\n",
       "      <th>1</th>\n",
       "      <td>2</td>\n",
       "      <td>5</td>\n",
       "    </tr>\n",
       "    <tr>\n",
       "      <th>2</th>\n",
       "      <td>3</td>\n",
       "      <td>6</td>\n",
       "    </tr>\n",
       "  </tbody>\n",
       "</table>\n",
       "</div>"
      ],
      "text/plain": [
       "   A  B\n",
       "0  1  4\n",
       "1  2  5\n",
       "2  3  6"
      ]
     },
     "execution_count": 10,
     "metadata": {},
     "output_type": "execute_result"
    }
   ],
   "source": [
    "df = pd.read_csv(filename, index_col=0)\n",
    "df"
   ]
  },
  {
   "cell_type": "markdown",
   "id": "ab550a34-e250-4b73-a66e-9ba239e54d38",
   "metadata": {},
   "source": [
    "## The subprocess module\n",
    "\n",
    "[`subprocess`](https://docs.python.org/3/library/subprocess.html) is a built-in module that enables you to spawn new processes, connect to their input/output/error pipes, and obtain their return codes. In other words, you can run any executable from python using `subprocess`.\n",
    "\n",
    "For example, let's use the disk usage program `du` to find out the size of this notebook"
   ]
  },
  {
   "cell_type": "code",
   "execution_count": 12,
   "id": "ddfe8897-ca87-432a-862e-a24871e2bb84",
   "metadata": {},
   "outputs": [
    {
     "name": "stdout",
     "output_type": "stream",
     "text": [
      "4.0K\tpython_scripting.ipynb\n"
     ]
    },
    {
     "data": {
      "text/plain": [
       "CompletedProcess(args=['du', '-h', 'python_scripting.ipynb'], returncode=0)"
      ]
     },
     "execution_count": 12,
     "metadata": {},
     "output_type": "execute_result"
    }
   ],
   "source": [
    "import subprocess\n",
    "cmd = [\"du\", \"-h\", \"python_scripting.ipynb\"]\n",
    "out = subprocess.run(cmd)"
   ]
  },
  {
   "cell_type": "markdown",
   "id": "dec0c98f-0c90-4a4a-9976-b721e8ac309d",
   "metadata": {},
   "source": [
    "As you can see, the output get's printed in the notebook. But, if you want to capture the output you can use the `capture_output` argument then `returned `out` (a [`subprocess.CompletedProcess`](https://docs.python.org/3/library/subprocess.html#subprocess.CompletedProcess) instance) will have the output"
   ]
  },
  {
   "cell_type": "code",
   "execution_count": 18,
   "id": "e5dc28fc-1290-4ae2-b553-387fe8b4c925",
   "metadata": {},
   "outputs": [
    {
     "name": "stdout",
     "output_type": "stream",
     "text": [
      "4.0K\tpython_scripting.ipynb\n",
      "\n"
     ]
    }
   ],
   "source": [
    "out = subprocess.run(cmd, capture_output=True)\n",
    "\n",
    "# Print the captured output after converting from bytes to a string\n",
    "print(out.stdout.decode(\"utf-8\"))"
   ]
  },
  {
   "cell_type": "markdown",
   "id": "80fe401e-181e-4e0f-abf4-c0a903948576",
   "metadata": {},
   "source": [
    "Finally, it is worth saying that the `cmd` above is a list, starting with the program, and then including any flags and arguments. I define it as a variable because it is often useful to print it before running `run` so you know what is happening!"
   ]
  },
  {
   "cell_type": "markdown",
   "id": "494fc995-cb70-410e-bf30-7f0ef8d71cc2",
   "metadata": {},
   "source": [
    "## The glob module"
   ]
  },
  {
   "cell_type": "markdown",
   "id": "b464dcda-0c38-407c-96e1-c8a85c4a5a88",
   "metadata": {},
   "source": [
    "[`glob`](https://docs.python.org/3/library/glob.html) finds all the pathnames matching a specified pattern according to the rules used by the Unix shell. For example, let's find all the files in the `exampel_directory`"
   ]
  },
  {
   "cell_type": "code",
   "execution_count": 12,
   "id": "76f73eb3-df3b-4075-ae53-419de3957d41",
   "metadata": {},
   "outputs": [
    {
     "name": "stdout",
     "output_type": "stream",
     "text": [
      "['example_directory/test.csv']\n"
     ]
    }
   ],
   "source": [
    "import glob\n",
    "\n",
    "files = glob.glob(\"example_directory/*\")\n",
    "print(files)"
   ]
  },
  {
   "cell_type": "markdown",
   "id": "c1691eb7-3a60-47f9-aebc-d392959a4025",
   "metadata": {},
   "source": [
    "In the pattern past to `glob.glob` you can use wildcard matching to say limit to only `csv` files with"
   ]
  },
  {
   "cell_type": "code",
   "execution_count": 13,
   "id": "9b0619fe-d6f6-45e6-8aa9-f7408018d550",
   "metadata": {},
   "outputs": [
    {
     "name": "stdout",
     "output_type": "stream",
     "text": [
      "['example_directory/test.csv']\n"
     ]
    }
   ],
   "source": [
    "files = glob.glob(\"example_directory/*csv\")\n",
    "print(files)"
   ]
  },
  {
   "cell_type": "markdown",
   "id": "3c740951-7b5c-4103-aedb-ee073e08912d",
   "metadata": {},
   "source": [
    "The returned `files` is a list of the file names, you can now iterate over these. For example to check the filesize with `subprocess` and `du`"
   ]
  },
  {
   "cell_type": "code",
   "execution_count": 14,
   "id": "eb1175b3-6fd8-45a1-a6a3-e0fcc719e102",
   "metadata": {},
   "outputs": [
    {
     "ename": "NameError",
     "evalue": "name 'subprocess' is not defined",
     "output_type": "error",
     "traceback": [
      "\u001b[0;31m---------------------------------------------------------------------------\u001b[0m",
      "\u001b[0;31mNameError\u001b[0m                                 Traceback (most recent call last)",
      "Cell \u001b[0;32mIn[14], line 3\u001b[0m\n\u001b[1;32m      1\u001b[0m \u001b[38;5;28;01mfor\u001b[39;00m file \u001b[38;5;129;01min\u001b[39;00m files:\n\u001b[1;32m      2\u001b[0m     cmd \u001b[38;5;241m=\u001b[39m [\u001b[38;5;124m\"\u001b[39m\u001b[38;5;124mdu\u001b[39m\u001b[38;5;124m\"\u001b[39m, \u001b[38;5;124m\"\u001b[39m\u001b[38;5;124m-h\u001b[39m\u001b[38;5;124m\"\u001b[39m, file]\n\u001b[0;32m----> 3\u001b[0m     \u001b[43msubprocess\u001b[49m\u001b[38;5;241m.\u001b[39mrun(cmd)\n",
      "\u001b[0;31mNameError\u001b[0m: name 'subprocess' is not defined"
     ]
    }
   ],
   "source": [
    "for file in files:\n",
    "    cmd = [\"du\", \"-h\", file]\n",
    "    subprocess.run(cmd)"
   ]
  }
 ],
 "metadata": {
  "kernelspec": {
   "display_name": "Python 3.9",
   "language": "python",
   "name": "python3.9"
  },
  "language_info": {
   "codemirror_mode": {
    "name": "ipython",
    "version": 3
   },
   "file_extension": ".py",
   "mimetype": "text/x-python",
   "name": "python",
   "nbconvert_exporter": "python",
   "pygments_lexer": "ipython3",
   "version": "3.9.18"
  }
 },
 "nbformat": 4,
 "nbformat_minor": 5
}
