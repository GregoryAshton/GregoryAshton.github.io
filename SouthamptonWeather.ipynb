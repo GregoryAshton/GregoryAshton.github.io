{
 "cells": [
  {
   "cell_type": "code",
   "execution_count": 1,
   "metadata": {
    "collapsed": true
   },
   "outputs": [],
   "source": [
    "import pandas as pd\n",
    "import matplotlib.pyplot as plt\n",
    "import numpy as np\n",
    "%matplotlib inline"
   ]
  },
  {
   "cell_type": "code",
   "execution_count": 2,
   "metadata": {
    "collapsed": false
   },
   "outputs": [
    {
     "name": "stdout",
     "output_type": "stream",
     "text": [
      "--2015-08-13 21:43:29--  http://www.metoffice.gov.uk/pub/data/weather/uk/climate/stationdata/southamptondata.txt\n",
      "Resolving www.metoffice.gov.uk (www.metoffice.gov.uk)... 2.20.183.171, 2.20.183.152\n",
      "Connecting to www.metoffice.gov.uk (www.metoffice.gov.uk)|2.20.183.171|:80... connected.\n",
      "HTTP request sent, awaiting response... 200 OK\n",
      "Length: 89374 (87K) [text/plain]\n",
      "Saving to: ‘southamptondata.txt’\n",
      "\n",
      "southamptondata.txt 100%[=====================>]  87.28K   487KB/s   in 0.2s   \n",
      "\n",
      "2015-08-13 21:43:29 (487 KB/s) - ‘southamptondata.txt’ saved [89374/89374]\n",
      "\n"
     ]
    }
   ],
   "source": [
    "!wget http://www.metoffice.gov.uk/pub/data/weather/uk/climate/stationdata/southamptondata.txt"
   ]
  },
  {
   "cell_type": "code",
   "execution_count": 23,
   "metadata": {
    "collapsed": true
   },
   "outputs": [],
   "source": [
    "pd.read_csv?"
   ]
  },
  {
   "cell_type": "code",
   "execution_count": 42,
   "metadata": {
    "collapsed": false
   },
   "outputs": [
    {
     "data": {
      "text/html": [
       "<div>\n",
       "<table border=\"1\" class=\"dataframe\">\n",
       "  <thead>\n",
       "    <tr style=\"text-align: right;\">\n",
       "      <th></th>\n",
       "      <th>date</th>\n",
       "      <th>tmax</th>\n",
       "      <th>tmin</th>\n",
       "      <th>af</th>\n",
       "      <th>rain</th>\n",
       "      <th>sun</th>\n",
       "    </tr>\n",
       "  </thead>\n",
       "  <tbody>\n",
       "    <tr>\n",
       "      <th>0</th>\n",
       "      <td>1855-01-01 00:00:00</td>\n",
       "      <td>5.0</td>\n",
       "      <td>0.5</td>\n",
       "      <td>16</td>\n",
       "      <td>NaN</td>\n",
       "      <td>NaN</td>\n",
       "    </tr>\n",
       "    <tr>\n",
       "      <th>1</th>\n",
       "      <td>1855-02-01 00:00:00</td>\n",
       "      <td>2.4</td>\n",
       "      <td>-3.5</td>\n",
       "      <td>21</td>\n",
       "      <td>54.3</td>\n",
       "      <td>NaN</td>\n",
       "    </tr>\n",
       "    <tr>\n",
       "      <th>2</th>\n",
       "      <td>1855-03-01 00:00:00</td>\n",
       "      <td>7.9</td>\n",
       "      <td>0.8</td>\n",
       "      <td>12</td>\n",
       "      <td>61.3</td>\n",
       "      <td>NaN</td>\n",
       "    </tr>\n",
       "    <tr>\n",
       "      <th>3</th>\n",
       "      <td>1855-04-01 00:00:00</td>\n",
       "      <td>13.7</td>\n",
       "      <td>3.6</td>\n",
       "      <td>4</td>\n",
       "      <td>10.1</td>\n",
       "      <td>NaN</td>\n",
       "    </tr>\n",
       "    <tr>\n",
       "      <th>4</th>\n",
       "      <td>1855-05-01 00:00:00</td>\n",
       "      <td>15.0</td>\n",
       "      <td>5.6</td>\n",
       "      <td>2</td>\n",
       "      <td>60.0</td>\n",
       "      <td>NaN</td>\n",
       "    </tr>\n",
       "  </tbody>\n",
       "</table>\n",
       "</div>"
      ],
      "text/plain": [
       "                 date  tmax  tmin  af  rain  sun\n",
       "0 1855-01-01 00:00:00   5.0   0.5  16   NaN  NaN\n",
       "1 1855-02-01 00:00:00   2.4  -3.5  21  54.3  NaN\n",
       "2 1855-03-01 00:00:00   7.9   0.8  12  61.3  NaN\n",
       "3 1855-04-01 00:00:00  13.7   3.6   4  10.1  NaN\n",
       "4 1855-05-01 00:00:00  15.0   5.6   2  60.0  NaN"
      ]
     },
     "execution_count": 42,
     "metadata": {},
     "output_type": "execute_result"
    }
   ],
   "source": [
    "dateparse = lambda x, y: pd.datetime.strptime(x+\" \"+y, '%Y %m')\n",
    "remove_star = lambda x: x.replace(\"*\", \"\")\n",
    "df = pd.read_csv(\"southamptondata.txt\", skiprows=[0, 1, 2, 3, 4, 6], sep=\" \", skipinitialspace=True, \n",
    "                 na_values=\"---\", parse_dates={'date': [0, 1]}, date_parser=dateparse, skipfooter=1, \n",
    "                 converters={2:remove_star, 3:remove_star, 4:remove_star, 5:remove_star})\n",
    "df.head()"
   ]
  },
  {
   "cell_type": "code",
   "execution_count": 35,
   "metadata": {
    "collapsed": false
   },
   "outputs": [
    {
     "name": "stdout",
     "output_type": "stream",
     "text": [
      "<class 'pandas.core.frame.DataFrame'>\n",
      "Int64Index: 1743 entries, 0 to 1742\n",
      "Data columns (total 6 columns):\n",
      "date    1743 non-null datetime64[ns]\n",
      "tmax    1732 non-null object\n",
      "tmin    1736 non-null float64\n",
      "af      1736 non-null object\n",
      "rain    1742 non-null object\n",
      "sun     1142 non-null object\n",
      "dtypes: datetime64[ns](1), float64(1), object(4)\n",
      "memory usage: 95.3+ KB\n"
     ]
    }
   ],
   "source": [
    "df.info()"
   ]
  },
  {
   "cell_type": "code",
   "execution_count": 45,
   "metadata": {
    "collapsed": false
   },
   "outputs": [
    {
     "data": {
      "text/plain": [
       "[<matplotlib.lines.Line2D at 0x7f99d60dc290>]"
      ]
     },
     "execution_count": 45,
     "metadata": {},
     "output_type": "execute_result"
    },
    {
     "data": {
      "image/png": "[encoded data removed]",
      "text/plain": [
       "<matplotlib.figure.Figure at 0x7f99d63d6d90>"
      ]
     },
     "metadata": {},
     "output_type": "display_data"
    }
   ],
   "source": [
    "dates = df.date.values\n",
    "rain = df.rain.values\n",
    "tmax = df.tmax.values\n",
    "\n",
    "plt.plot(dates, tmax)"
   ]
  }
 ],
 "metadata": {
  "kernelspec": {
   "display_name": "Python 2",
   "language": "python",
   "name": "python2"
  },
  "language_info": {
   "codemirror_mode": {
    "name": "ipython",
    "version": 2
   },
   "file_extension": ".py",
   "mimetype": "text/x-python",
   "name": "python",
   "nbconvert_exporter": "python",
   "pygments_lexer": "ipython2",
   "version": "2.7.8"
  }
 },
 "nbformat": 4,
 "nbformat_minor": 0
}
